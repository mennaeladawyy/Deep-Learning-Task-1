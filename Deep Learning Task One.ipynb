{
 "cells": [
  {
   "cell_type": "code",
   "execution_count": 1,
   "id": "ba9c1fd0",
   "metadata": {},
   "outputs": [],
   "source": [
    "import numpy as np\n",
    "import matplotlib as plt\n",
    "import os\n",
    "import cv2\n",
    "from tqdm import tqdm\n",
    "import tensorflow as tf\n",
    "from tensorflow import keras"
   ]
  },
  {
   "cell_type": "code",
   "execution_count": 2,
   "id": "19f964dd",
   "metadata": {},
   "outputs": [],
   "source": [
    "train_path = r'C:\\Users\\PC\\Downloads\\Dataset\\train'\n",
    "test_path = r'C:\\Users\\PC\\Downloads\\Dataset\\test'\n",
    "val_path = r'C:\\Users\\PC\\Downloads\\Dataset\\val'"
   ]
  },
  {
   "cell_type": "code",
   "execution_count": 3,
   "id": "f21f313b",
   "metadata": {},
   "outputs": [],
   "source": [
    "from keras.preprocessing.image import ImageDataGenerator"
   ]
  },
  {
   "cell_type": "code",
   "execution_count": 4,
   "id": "17ab6e2b",
   "metadata": {},
   "outputs": [
    {
     "name": "stdout",
     "output_type": "stream",
     "text": [
      "Found 1200 images belonging to 2 classes.\n",
      "Found 200 images belonging to 2 classes.\n",
      "Found 400 images belonging to 2 classes.\n"
     ]
    }
   ],
   "source": [
    "train_batches= ImageDataGenerator(preprocessing_function= tf.keras.applications.mobilenet.preprocess_input).flow_from_directory( directory=train_path, target_size=(224,224), batch_size= 10)\n",
    "test_batches= ImageDataGenerator(preprocessing_function= tf.keras.applications.mobilenet.preprocess_input).flow_from_directory( directory=test_path, target_size=(224,224), batch_size= 10, shuffle = False )\n",
    "val_batches= ImageDataGenerator(preprocessing_function= tf.keras.applications.mobilenet.preprocess_input).flow_from_directory( directory=val_path, target_size=(224,224), batch_size= 10)"
   ]
  },
  {
   "cell_type": "code",
   "execution_count": 5,
   "id": "71f86907",
   "metadata": {},
   "outputs": [],
   "source": [
    "imgs,labels= next(train_batches)"
   ]
  },
  {
   "cell_type": "code",
   "execution_count": 6,
   "id": "44c13eb2",
   "metadata": {},
   "outputs": [],
   "source": [
    "vgg16_model = tf.keras.applications.vgg16.VGG16()"
   ]
  },
  {
   "cell_type": "code",
   "execution_count": 7,
   "id": "9c4a465e",
   "metadata": {},
   "outputs": [],
   "source": [
    "model = keras.Sequential()"
   ]
  },
  {
   "cell_type": "code",
   "execution_count": 8,
   "id": "0bc6c3c9",
   "metadata": {},
   "outputs": [],
   "source": [
    "for layer in vgg16_model.layers:\n",
    "    layer.trainable = False  \n",
    "    model.add(layer)"
   ]
  },
  {
   "cell_type": "code",
   "execution_count": 12,
   "id": "7df10118",
   "metadata": {},
   "outputs": [],
   "source": [
    "model.add(keras.layers.Flatten())  \n",
    "model.add(keras.layers.Dense(256, activation='relu'))  \n",
    "model.add(keras.layers.Dense(2, activation='softmax'))  "
   ]
  },
  {
   "cell_type": "code",
   "execution_count": 13,
   "id": "2224831a",
   "metadata": {},
   "outputs": [],
   "source": [
    "model.compile(optimizer='adam', loss='categorical_crossentropy', metrics=['accuracy'])"
   ]
  },
  {
   "cell_type": "code",
   "execution_count": 14,
   "id": "5aa62f16",
   "metadata": {},
   "outputs": [
    {
     "name": "stdout",
     "output_type": "stream",
     "text": [
      "Epoch 1/5\n",
      "4/4 - 138s - loss: 0.6956 - accuracy: 0.4500 - val_loss: 0.6920 - val_accuracy: 0.4750 - 138s/epoch - 34s/step\n",
      "Epoch 2/5\n",
      "4/4 - 121s - loss: 0.6902 - accuracy: 0.4500 - val_loss: 0.6896 - val_accuracy: 0.7000 - 121s/epoch - 30s/step\n",
      "Epoch 3/5\n",
      "4/4 - 121s - loss: 0.6872 - accuracy: 0.7250 - val_loss: 0.6817 - val_accuracy: 0.6500 - 121s/epoch - 30s/step\n",
      "Epoch 4/5\n",
      "4/4 - 117s - loss: 0.6860 - accuracy: 0.5750 - val_loss: 0.6792 - val_accuracy: 0.5750 - 117s/epoch - 29s/step\n",
      "Epoch 5/5\n",
      "4/4 - 118s - loss: 0.6751 - accuracy: 0.6750 - val_loss: 0.6785 - val_accuracy: 0.6000 - 118s/epoch - 29s/step\n"
     ]
    },
    {
     "data": {
      "text/plain": [
       "<keras.callbacks.History at 0x12284b5e190>"
      ]
     },
     "execution_count": 14,
     "metadata": {},
     "output_type": "execute_result"
    }
   ],
   "source": [
    "model.fit(train_batches, validation_data=val_batches, steps_per_epoch=4, validation_steps=4, epochs=5, verbose=2)"
   ]
  },
  {
   "cell_type": "code",
   "execution_count": 16,
   "id": "70deb84d",
   "metadata": {},
   "outputs": [
    {
     "name": "stdout",
     "output_type": "stream",
     "text": [
      "20/20 [==============================] - 651s 32s/step - loss: 0.6826 - accuracy: 0.5450\n",
      "Test Accuracy: 0.55\n"
     ]
    }
   ],
   "source": [
    "loss, acc = model.evaluate(test_batches)\n",
    "print(f\"Test Accuracy: {acc:.2f}\")"
   ]
  },
  {
   "cell_type": "code",
   "execution_count": 19,
   "id": "9c775885",
   "metadata": {},
   "outputs": [],
   "source": [
    "from tensorflow.keras.preprocessing import image\n",
    "img_path = r'C:\\Users\\PC\\Downloads\\Dataset\\test\\cat\\832.jpg'\n",
    "img = image.load_img(img_path, target_size=(224, 224))\n",
    "img_array = image.img_to_array(img)\n",
    "img_array = np.expand_dims(img_array, axis=0)\n",
    "img_array = tf.keras.applications.vgg16.preprocess_input(img_array)"
   ]
  },
  {
   "cell_type": "code",
   "execution_count": 20,
   "id": "7f242621",
   "metadata": {},
   "outputs": [
    {
     "name": "stdout",
     "output_type": "stream",
     "text": [
      "1/1 [==============================] - 5s 5s/step\n",
      "Prediction: [[0.52953035 0.47046965]]\n"
     ]
    }
   ],
   "source": [
    "prediction = model.predict(img_array)\n",
    "print(\"Prediction:\", prediction)"
   ]
  }
 ],
 "metadata": {
  "kernelspec": {
   "display_name": "Python 3 (ipykernel)",
   "language": "python",
   "name": "python3"
  },
  "language_info": {
   "codemirror_mode": {
    "name": "ipython",
    "version": 3
   },
   "file_extension": ".py",
   "mimetype": "text/x-python",
   "name": "python",
   "nbconvert_exporter": "python",
   "pygments_lexer": "ipython3",
   "version": "3.9.13"
  }
 },
 "nbformat": 4,
 "nbformat_minor": 5
}
